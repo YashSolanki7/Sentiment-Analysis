{
  "nbformat": 4,
  "nbformat_minor": 0,
  "metadata": {
    "colab": {
      "name": "Copy of Sentimentcode",
      "provenance": [],
      "collapsed_sections": []
    },
    "kernelspec": {
      "name": "python3",
      "display_name": "Python 3"
    },
    "language_info": {
      "name": "python"
    }
  },
  "cells": [
    {
      "cell_type": "code",
      "metadata": {
        "id": "ALVofCHJ9CKm",
        "colab": {
          "base_uri": "https://localhost:8080/"
        },
        "outputId": "30780396-39b8-479c-882f-aef826be68b6"
      },
      "source": [
        "!pip install azure-ai-textanalytics"
      ],
      "execution_count": null,
      "outputs": [
        {
          "output_type": "stream",
          "name": "stdout",
          "text": [
            "Requirement already satisfied: azure-ai-textanalytics in /usr/local/lib/python3.7/dist-packages (5.1.0)\n",
            "Requirement already satisfied: azure-common~=1.1 in /usr/local/lib/python3.7/dist-packages (from azure-ai-textanalytics) (1.1.27)\n",
            "Requirement already satisfied: six>=1.11.0 in /usr/local/lib/python3.7/dist-packages (from azure-ai-textanalytics) (1.15.0)\n",
            "Requirement already satisfied: msrest>=0.6.21 in /usr/local/lib/python3.7/dist-packages (from azure-ai-textanalytics) (0.6.21)\n",
            "Requirement already satisfied: azure-core<2.0.0,>=1.14.0 in /usr/local/lib/python3.7/dist-packages (from azure-ai-textanalytics) (1.20.1)\n",
            "Requirement already satisfied: requests>=2.18.4 in /usr/local/lib/python3.7/dist-packages (from azure-core<2.0.0,>=1.14.0->azure-ai-textanalytics) (2.23.0)\n",
            "Requirement already satisfied: certifi>=2017.4.17 in /usr/local/lib/python3.7/dist-packages (from msrest>=0.6.21->azure-ai-textanalytics) (2021.10.8)\n",
            "Requirement already satisfied: isodate>=0.6.0 in /usr/local/lib/python3.7/dist-packages (from msrest>=0.6.21->azure-ai-textanalytics) (0.6.0)\n",
            "Requirement already satisfied: requests-oauthlib>=0.5.0 in /usr/local/lib/python3.7/dist-packages (from msrest>=0.6.21->azure-ai-textanalytics) (1.3.0)\n",
            "Requirement already satisfied: urllib3!=1.25.0,!=1.25.1,<1.26,>=1.21.1 in /usr/local/lib/python3.7/dist-packages (from requests>=2.18.4->azure-core<2.0.0,>=1.14.0->azure-ai-textanalytics) (1.24.3)\n",
            "Requirement already satisfied: chardet<4,>=3.0.2 in /usr/local/lib/python3.7/dist-packages (from requests>=2.18.4->azure-core<2.0.0,>=1.14.0->azure-ai-textanalytics) (3.0.4)\n",
            "Requirement already satisfied: idna<3,>=2.5 in /usr/local/lib/python3.7/dist-packages (from requests>=2.18.4->azure-core<2.0.0,>=1.14.0->azure-ai-textanalytics) (2.10)\n",
            "Requirement already satisfied: oauthlib>=3.0.0 in /usr/local/lib/python3.7/dist-packages (from requests-oauthlib>=0.5.0->msrest>=0.6.21->azure-ai-textanalytics) (3.1.1)\n"
          ]
        }
      ]
    },
    {
      "cell_type": "code",
      "metadata": {
        "id": "xWmr1ND48nLR"
      },
      "source": [
        "from azure.core.credentials import AzureKeyCredential\n",
        "from azure.ai.textanalytics import TextAnalyticsClient\n",
        "import numpy as np\n",
        "import pandas as pd\n",
        "import csv"
      ],
      "execution_count": null,
      "outputs": []
    },
    {
      "cell_type": "code",
      "metadata": {
        "id": "AZnQG1sy-iNe"
      },
      "source": [
        "credential = AzureKeyCredential(\"25a9ea809eda4447b563a3f88afb46a9\")\n",
        "endpoint=\"https://cog987.cognitiveservices.azure.com/\""
      ],
      "execution_count": null,
      "outputs": []
    },
    {
      "cell_type": "code",
      "metadata": {
        "id": "EmwLZkwm-nC2"
      },
      "source": [
        "tweet_csv = pd.read_csv('/twc.csv')"
      ],
      "execution_count": null,
      "outputs": []
    },
    {
      "cell_type": "code",
      "metadata": {
        "colab": {
          "base_uri": "https://localhost:8080/"
        },
        "id": "R2g2TPX8GHxG",
        "outputId": "c6b0429e-ea5c-4cf4-b39a-f138891306f0"
      },
      "source": [
        "# csv fileused id Geeks.csv\n",
        "filename = \"/twc.csv\"\n",
        "\n",
        "documents=[]\n",
        "id=[]\n",
        "i = 0 # counter variable as it only permits 10 record for analyze\n",
        "with open(filename, 'r') as data:\n",
        "    for line in csv.reader(data):\n",
        "      if i<10:\n",
        "        print(line[3])\n",
        "        documents.append(line[3])\n",
        "        id.append(i)\n",
        "        i=i+1\n"
      ],
      "execution_count": null,
      "outputs": [
        {
          "output_type": "stream",
          "name": "stdout",
          "text": [
            "text\n",
            "@VirginAmerica What @dhepburn said.\n",
            "@VirginAmerica plus you've added commercials to the experience... tacky.\n",
            "@VirginAmerica I didn't today... Must mean I need to take another trip!\n",
            "@VirginAmerica it's really aggressive to blast obnoxious \"entertainment\" in your guests' faces &amp; they have little recourse\n",
            "@VirginAmerica and it's a really big bad thing about it\n",
            "@VirginAmerica seriously would pay $30 a flight for seats that didn't have this playing.\n",
            "it's really the only bad thing about flying VA\n",
            "@VirginAmerica yes, nearly every time I fly VX this “ear worm” won’t go away :)\n",
            "@VirginAmerica Really missed a prime opportunity for Men Without Hats parody, there. https://t.co/mWpG7grEZP\n",
            "@virginamerica Well, I didn't…but NOW I DO! :-D\n"
          ]
        }
      ]
    },
    {
      "cell_type": "code",
      "metadata": {
        "colab": {
          "base_uri": "https://localhost:8080/"
        },
        "id": "ZhvBCNIP9AMb",
        "outputId": "539684c8-92e2-441c-c45b-f5abb930e7e1"
      },
      "source": [
        "text_analytics_client = TextAnalyticsClient(endpoint, credential)\n",
        "\n",
        "response = text_analytics_client.analyze_sentiment(documents, language=\"en\")\n",
        "result = [doc for doc in response if not doc.is_error]\n",
        "\n",
        "result_csv = '/result.csv'\n",
        "\n",
        "header = ['name','text','positive','neutral','negative']\n",
        "with open(result_csv,'w',encoding='UTF8') as f:\n",
        "  writer = csv.writer(f)\n",
        "  writer.writerow(header)\n",
        "  for (doc,i,j) in zip(result,id,documents):\n",
        "    print(\"Overall sentiment: {}\".format(doc.sentiment))\n",
        "    print(\"Scores: positive={}; neutral={}; negative={} \\n\".format(\n",
        "        doc.confidence_scores.positive,\n",
        "        doc.confidence_scores.neutral,\n",
        "        doc.confidence_scores.negative,\n",
        "    ))\n",
        "    writer.writerow([(i+1),j,doc.confidence_scores.positive,doc.confidence_scores.neutral,doc.confidence_scores.negative])"
      ],
      "execution_count": null,
      "outputs": [
        {
          "output_type": "stream",
          "name": "stdout",
          "text": [
            "Overall sentiment: neutral\n",
            "Scores: positive=0.23; neutral=0.69; negative=0.08 \n",
            "\n",
            "Overall sentiment: neutral\n",
            "Scores: positive=0.44; neutral=0.5; negative=0.06 \n",
            "\n",
            "Overall sentiment: negative\n",
            "Scores: positive=0.0; neutral=0.02; negative=0.98 \n",
            "\n",
            "Overall sentiment: neutral\n",
            "Scores: positive=0.1; neutral=0.55; negative=0.35 \n",
            "\n",
            "Overall sentiment: negative\n",
            "Scores: positive=0.01; neutral=0.02; negative=0.97 \n",
            "\n",
            "Overall sentiment: negative\n",
            "Scores: positive=0.0; neutral=0.0; negative=1.0 \n",
            "\n",
            "Overall sentiment: negative\n",
            "Scores: positive=0.02; neutral=0.21; negative=0.77 \n",
            "\n",
            "Overall sentiment: neutral\n",
            "Scores: positive=0.27; neutral=0.7; negative=0.03 \n",
            "\n",
            "Overall sentiment: positive\n",
            "Scores: positive=0.57; neutral=0.02; negative=0.41 \n",
            "\n",
            "Overall sentiment: positive\n",
            "Scores: positive=0.71; neutral=0.23; negative=0.06 \n",
            "\n"
          ]
        }
      ]
    },
    {
      "cell_type": "code",
      "metadata": {
        "id": "rwyzFoEC9iR8"
      },
      "source": [
        ""
      ],
      "execution_count": null,
      "outputs": []
    }
  ]
}